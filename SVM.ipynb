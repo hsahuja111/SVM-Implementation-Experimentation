{
 "cells": [
  {
   "cell_type": "markdown",
   "id": "e709daec-676f-43c4-b995-cc7ab58ecda0",
   "metadata": {
    "id": "e709daec-676f-43c4-b995-cc7ab58ecda0",
    "jp-MarkdownHeadingCollapsed": true,
    "tags": []
   },
   "source": [
    "\n",
    "# Support Vector Machines Implementation, Experimentation and Visualization"
   ]
  },
  {
   "cell_type": "markdown",
   "id": "af3b5b55-94e7-4d17-a3c6-bc9246d7b116",
   "metadata": {
    "id": "af3b5b55-94e7-4d17-a3c6-bc9246d7b116"
   },
   "source": [
    "### Subsection 1\n",
    "\n",
    "*  Taken a synthetic dataset and visualized the boundary predicted by SVM by varying the value of C-parameter and see how the decision boundary changes. Used a QCQP (Quadratically Constrained Quadratic Program) solver like CVXPY. This has been done without use of any inbuilt sklearn.\n",
    "\n",
    "* Implemented both the Hard Classification and Soft Classification for the same dataset\n",
    "\n",
    " \n"
   ]
  },
  {
   "cell_type": "code",
   "execution_count": 1,
   "id": "5024e6b9",
   "metadata": {
    "id": "5024e6b9"
   },
   "outputs": [],
   "source": [
    "import numpy as np\n",
    "import cvxpy as cp\n",
    "import matplotlib.pyplot as plt"
   ]
  },
  {
   "cell_type": "code",
   "execution_count": 2,
   "id": "193fa0dc",
   "metadata": {
    "id": "193fa0dc"
   },
   "outputs": [],
   "source": [
    "# Helper function to visualize 2D points X with labels +1 or -1\n",
    "def plot_points(X, Y):\n",
    "    reds = []\n",
    "    blues = []\n",
    "    for i in range(Y.shape[0]):\n",
    "        if Y[i] == 1:\n",
    "            reds.append(X[i])\n",
    "        else:\n",
    "            blues.append(X[i])\n",
    "    reds = np.array(reds)\n",
    "    blues = np.array(blues)\n",
    "    plt.scatter(reds[:, 0], reds[:, 1], c = 'r')\n",
    "    plt.scatter(blues[:, 0], blues[:, 1], c = 'b')\n",
    "    return plt"
   ]
  },
  {
   "cell_type": "code",
   "execution_count": 3,
   "id": "4e30d978",
   "metadata": {
    "colab": {
     "base_uri": "https://localhost:8080/",
     "height": 265
    },
    "id": "4e30d978",
    "outputId": "a9bc5a25-356e-432e-f344-52fe3ec7b79d"
   },
   "outputs": [
    {
     "data": {
      "image/png": "[encoded data removed]",
      "text/plain": [
       "<Figure size 432x288 with 1 Axes>"
      ]
     },
     "metadata": {
      "needs_background": "light"
     },
     "output_type": "display_data"
    }
   ],
   "source": [
    "# Create Synthetic Data and visualize the points\n",
    "X = np.array([[-3.5, -1], [-3, 0], [-3, 1], [-2.7, -1.3], [-2, -1], [-2, -2.7], \n",
    "              [-1, -2.5], [0, -3], [-1.1, 0], [0, 2.5], [1, 2], [0.7, 4], \n",
    "              [2.1, 0.2], [2.3, 1], [2.8, 1.8], [2.2, 2.8]])\n",
    "y = np.array([1, 1, 1, 1, 1, 1, 1, 1, -1, -1, -1, -1, -1, -1, -1, -1])\n",
    "\n",
    "plot_points(X, y)\n",
    "plt.show()"
   ]
  },
  {
   "cell_type": "markdown",
   "id": "f0e5df93",
   "metadata": {
    "id": "f0e5df93"
   },
   "source": [
    "### Hard Classification"
   ]
  },
  {
   "cell_type": "code",
   "execution_count": 18,
   "id": "84197274",
   "metadata": {
    "id": "84197274"
   },
   "outputs": [],
   "source": [
    "\n",
    "def hard_classification(X,y,m,n,W,b):\n",
    "  objective = cp.Minimize(0.5 * cp.square(cp.norm(W)))\n",
    "  \n",
    "  constraints=[]\n",
    "\n",
    "  for i in range(len(X)):\n",
    "      tem = y[i]*(X[i]@W + b) -1 >=0\n",
    "      constraints.append(tem)\n",
    "  prob = cp. Problem(objective, constraints)\n",
    "  prob.solve()\n",
    "  print (\"Optimal value of Wi\", W.value)\n",
    "  print (\"Optimal value of b:\", b.value)\n",
    "  weights = W.value\n",
    "  slope = -weights[0]/weights[1]\n",
    "  intercept = -b.value/weights[1]\n",
    "\n",
    "\n",
    "  ## Support Vectors\n",
    "  support_vectors = np.where(np.abs(np.round(constraints[0].dual_value, 5)) > 0)[0]\n",
    "  W = W.value.reshape(-1)\n",
    "  b = b.value\n",
    "  \n",
    "  x_vals = np.array([np.min(X[:, 0])-1, np.max(X[:, 0])+1])\n",
    "  x_fit = np.linspace(x_vals[0],x_vals[1],50)\n",
    "  y_vals =-W[0]*x_fit/W[1] -b/W[1]\n",
    "  slope = -W[0]*x_vals/W[1]\n",
    "  plt.scatter(X[:, 0], X[:, 1], c=y)\n",
    "  plt.plot(x_fit, y_vals,  label='Decision Boundary')\n",
    "\n",
    "\n",
    "  margin = 1/W[1]\n",
    "  y_down = y_vals - margin\n",
    "  plt.plot(x_fit, y_down,  label='Support Vector')\n",
    "  y_up = y_vals + margin\n",
    "  plt.plot(x_fit, y_up, label='Support Vector')\n",
    "  plt.legend()\n",
    "  \n",
    "  plt.show()\n",
    "\n",
    "\n",
    "\n"
   ]
  },
  {
   "cell_type": "markdown",
   "id": "a9b1e0da",
   "metadata": {
    "id": "a9b1e0da"
   },
   "source": [
    "### Visualization"
   ]
  },
  {
   "cell_type": "code",
   "execution_count": 19,
   "id": "8eRAWN8trW9j",
   "metadata": {
    "colab": {
     "base_uri": "https://localhost:8080/",
     "height": 301
    },
    "id": "8eRAWN8trW9j",
    "outputId": "8881f2ef-266d-464b-9513-e3651355fd14"
   },
   "outputs": [
    {
     "name": "stdout",
     "output_type": "stream",
     "text": [
      "Optimal value of Wi [-1.73913043 -1.30434783]\n",
      "Optimal value of b: -2.9130434780347696\n"
     ]
    },
    {
     "data": {
      "image/png": "[encoded data removed]",
      "text/plain": [
       "<Figure size 432x288 with 1 Axes>"
      ]
     },
     "metadata": {
      "needs_background": "light"
     },
     "output_type": "display_data"
    }
   ],
   "source": [
    "m, n = X.shape\n",
    "\n",
    "W = cp.Variable(n,value = np.zeros(n))\n",
    "b = cp.Variable(value = 0)\n",
    "hard_classification(X,y,m,n,W,b)"
   ]
  },
  {
   "cell_type": "markdown",
   "id": "bOZdvOY9VIdV",
   "metadata": {
    "id": "bOZdvOY9VIdV"
   },
   "source": []
  },
  {
   "cell_type": "markdown",
   "id": "658b1a66",
   "metadata": {
    "id": "658b1a66"
   },
   "source": [
    "### Addition of 2 more points and visualizing the boundary changes\n",
    "* (-4, -10) with label 1\n",
    "* (4, 4) with label -1"
   ]
  },
  {
   "cell_type": "code",
   "execution_count": 20,
   "id": "Yi2vR_7I2LXL",
   "metadata": {
    "id": "Yi2vR_7I2LXL"
   },
   "outputs": [],
   "source": [
    "row = np.array([-4,-10])\n",
    "Xt=np.append(X,[row],axis=0)\n",
    "yt = np.append(y,1)\n",
    "row = np.array([4,4])\n",
    "Xt=np.append(Xt,[row],axis=0)\n",
    "yt = np.append(yt,-1)\n"
   ]
  },
  {
   "cell_type": "code",
   "execution_count": 21,
   "id": "RPmEmTCGhydB",
   "metadata": {
    "colab": {
     "base_uri": "https://localhost:8080/",
     "height": 549
    },
    "id": "RPmEmTCGhydB",
    "outputId": "fb2b1eb3-835e-4ec9-befb-0c5b81707b81"
   },
   "outputs": [
    {
     "data": {
      "image/png": "[encoded data removed]",
      "text/plain": [
       "<Figure size 432x288 with 1 Axes>"
      ]
     },
     "metadata": {
      "needs_background": "light"
     },
     "output_type": "display_data"
    },
    {
     "name": "stdout",
     "output_type": "stream",
     "text": [
      "Optimal value of Wi [-1.73913043 -1.30434783]\n",
      "Optimal value of b: -2.913043478291523\n"
     ]
    },
    {
     "data": {
      "image/png": "[encoded data removed]",
      "text/plain": [
       "<Figure size 432x288 with 1 Axes>"
      ]
     },
     "metadata": {
      "needs_background": "light"
     },
     "output_type": "display_data"
    }
   ],
   "source": [
    "\n",
    "\n",
    "plt = plot_points(Xt,yt)\n",
    "plt.show()\n",
    "\n",
    "m, n = Xt.shape\n",
    "\n",
    "W = cp.Variable(n,value = np.zeros(n))\n",
    "b = cp.Variable(value = 0)\n",
    "hard_classification(Xt,yt,m,n,W,b)"
   ]
  },
  {
   "cell_type": "markdown",
   "id": "0f1cf9f3",
   "metadata": {
    "id": "0f1cf9f3"
   },
   "source": [
    "### Visualization by varying the C values"
   ]
  },
  {
   "cell_type": "code",
   "execution_count": 23,
   "id": "4fOSZjk3SbOU",
   "metadata": {
    "colab": {
     "base_uri": "https://localhost:8080/",
     "height": 1000
    },
    "id": "4fOSZjk3SbOU",
    "outputId": "88480f57-d092-42ed-8ce9-1a5e62292eb2"
   },
   "outputs": [
    {
     "name": "stdout",
     "output_type": "stream",
     "text": [
      "For the value of C  0.01\n",
      "Optimal value of W [-0.22506809 -0.19858949]\n",
      "Optimal value of b: 0.013672204266876367\n"
     ]
    },
    {
     "data": {
      "image/png": "[encoded data removed]",
      "text/plain": [
       "<Figure size 432x288 with 1 Axes>"
      ]
     },
     "metadata": {
      "needs_background": "light"
     },
     "output_type": "display_data"
    },
    {
     "name": "stdout",
     "output_type": "stream",
     "text": [
      "For the value of C  0.1\n",
      "Optimal value of W [-0.38493724 -0.35146444]\n",
      "Optimal value of b: -0.1213389120189892\n"
     ]
    },
    {
     "data": {
      "image/png": "[encoded data removed]",
      "text/plain": [
       "<Figure size 432x288 with 1 Axes>"
      ]
     },
     "metadata": {
      "needs_background": "light"
     },
     "output_type": "display_data"
    },
    {
     "name": "stdout",
     "output_type": "stream",
     "text": [
      "For the value of C  3\n",
      "Optimal value of W [-1.73913043 -1.30434783]\n",
      "Optimal value of b: -2.9130434782869083\n"
     ]
    },
    {
     "data": {
      "image/png": "[encoded data removed]",
      "text/plain": [
       "<Figure size 432x288 with 1 Axes>"
      ]
     },
     "metadata": {
      "needs_background": "light"
     },
     "output_type": "display_data"
    },
    {
     "name": "stdout",
     "output_type": "stream",
     "text": [
      "For the value of C  10\n",
      "Optimal value of W [-1.73913043 -1.30434783]\n",
      "Optimal value of b: -2.9130434783573915\n"
     ]
    },
    {
     "data": {
      "image/png": "[encoded data removed]",
      "text/plain": [
       "<Figure size 432x288 with 1 Axes>"
      ]
     },
     "metadata": {
      "needs_background": "light"
     },
     "output_type": "display_data"
    },
    {
     "name": "stdout",
     "output_type": "stream",
     "text": [
      "For the value of C  100\n",
      "Optimal value of W [-1.73913044 -1.30434783]\n",
      "Optimal value of b: -2.9130434786842767\n"
     ]
    },
    {
     "data": {
      "image/png": "[encoded data removed]",
      "text/plain": [
       "<Figure size 432x288 with 1 Axes>"
      ]
     },
     "metadata": {
      "needs_background": "light"
     },
     "output_type": "display_data"
    }
   ],
   "source": [
    "C_values = [0.01,0.1,3,10,100]\n",
    "m, n = Xt.shape\n",
    "for C in C_values:\n",
    "  W = cp.Variable(n)\n",
    "  slack = cp.Variable(m)\n",
    "  b = cp.Variable()\n",
    "  objective = cp.Minimize(0.5 * cp.square(cp.norm(W)) + C * cp.sum(slack))\n",
    "\n",
    "  constraints=[]\n",
    "  for i in range(len(Xt)):\n",
    "    val = (yt[i]*(Xt[i]@W + b) -1 +slack[i] >=0)\n",
    "    constraints.extend([val,slack[i]>=0])\n",
    "\n",
    "\n",
    "  # constraints = [cp.multiply(yt, cp.matmul(Xt,W) + b)-1 + slack >= 0, slack >= 0]\n",
    "  prob = cp. Problem(objective, constraints)\n",
    "  prob.solve()\n",
    "\n",
    " \n",
    "  ## Printing the optimal values\n",
    "  print('For the value of C ', C)\n",
    "  print (\"Optimal value of W\", W.value)\n",
    "  print (\"Optimal value of b:\", b.value)\n",
    "\n",
    "  ## Support Vectors\n",
    "  support_vectors = np.where(np.abs(np.round(constraints[0].dual_value, 5)) > 0)[0]\n",
    "  W = W.value.reshape(-1)\n",
    "  b = b.value\n",
    "  \n",
    "  x_vals = np.array([np.min(Xt[:, 0])-1, np.max(Xt[:, 0])+1])\n",
    "  x_fit = np.linspace(x_vals[0],x_vals[1],50)\n",
    "  y_vals =-W[0]*x_fit/W[1] -b/W[1]\n",
    "  slope = -W[0]*x_vals/W[1]\n",
    "  plt.scatter(Xt[:, 0], Xt[:, 1], c=yt)\n",
    "  plt.plot(x_fit, y_vals,  label='Decision Boundary')\n",
    "\n",
    "\n",
    "  margin = 1/W[1]\n",
    "  y_down = y_vals - margin\n",
    "  plt.plot(x_fit, y_down,  label='Support Vector')\n",
    "  y_up = y_vals + margin\n",
    "  plt.plot(x_fit, y_up ,    label='Support Vector')\n",
    "  plt.legend()\n",
    "  \n",
    "  plt.show()"
   ]
  },
  {
   "cell_type": "markdown",
   "id": "KIoWQzGWSQwu",
   "metadata": {
    "id": "KIoWQzGWSQwu"
   },
   "source": [
    "In SVM, the parameter \"C\" controls the trade-off between maximizing the margin (i.e., the distance between the decision boundary and the closest data points from both classes) and minimizing the classification error . Hence, when we increase the value of \"C\", our algorithm focuses more on correct classification, rather than margin."
   ]
  },
  {
   "cell_type": "markdown",
   "id": "2df4e54a",
   "metadata": {
    "id": "2df4e54a"
   },
   "source": [
    "####  Taking the case of C = 100 and removing the support vectors. Does the boundary change after the deletion? "
   ]
  },
  {
   "cell_type": "code",
   "execution_count": 25,
   "id": "a4yMn8PY6HDT",
   "metadata": {
    "id": "a4yMn8PY6HDT"
   },
   "outputs": [],
   "source": [
    "## removing the support vectors\n",
    "\n",
    "X = np.array([[-3.5, -1], [-3, 0],  [-2.7, -1.3], [-2, -1], [-2, -2.7], \n",
    "              [-1, -2.5],   [0, 2.5], [1, 2], [0.7, 4], \n",
    "              [2.1, 0.2], [2.3, 1], [2.8, 1.8], [2.2, 2.8] , [-4,-10] ,[4,4] ])\n",
    "y = np.array([1, 1, 1 , 1, 1, 1 ,  -1, -1, -1, -1, -1, -1, -1 , 1 ,-1])\n"
   ]
  },
  {
   "cell_type": "code",
   "execution_count": 27,
   "id": "efd0de52",
   "metadata": {
    "colab": {
     "base_uri": "https://localhost:8080/",
     "height": 336
    },
    "id": "efd0de52",
    "outputId": "8d7e3f44-5414-418e-b15f-2d4f1f31cc22"
   },
   "outputs": [
    {
     "name": "stdout",
     "output_type": "stream",
     "text": [
      "For the value of C = 100 and removing the support vectors\n",
      "Optimal value of W [-0.38493724 -0.35146444]\n",
      "Optimal value of b: -0.12133891214351254\n"
     ]
    },
    {
     "data": {
      "text/plain": [
       "<matplotlib.legend.Legend at 0x7f0deb49c340>"
      ]
     },
     "execution_count": 27,
     "metadata": {},
     "output_type": "execute_result"
    },
    {
     "data": {
      "image/png": "[encoded data removed]",
      "text/plain": [
       "<Figure size 432x288 with 1 Axes>"
      ]
     },
     "metadata": {
      "needs_background": "light"
     },
     "output_type": "display_data"
    }
   ],
   "source": [
    "m, n = X.shape\n",
    "\n",
    "W = cp.Variable(n)\n",
    "slack = cp.Variable(m)\n",
    "b = cp.Variable()\n",
    "objective = cp.Minimize(0.5 * cp.square(cp.norm(W)) + 100 * cp.sum(slack))\n",
    "\n",
    "\n",
    "constraints=[]\n",
    "for i in range(len(X)):\n",
    "  val = (y[i]*(X[i]@W + b) -1 +slack[i] >=0)\n",
    "  constraints.extend([val,slack[i]>=0])\n",
    "\n",
    "prob = cp. Problem(objective, constraints)\n",
    "prob.solve()\n",
    "\n",
    "\n",
    "## Printing the optimal values\n",
    "print('For the value of C = 100 and removing the support vectors')\n",
    "print (\"Optimal value of W\", W.value)\n",
    "print (\"Optimal value of b:\", b.value)\n",
    "\n",
    "## Support Vectors\n",
    "support_vectors = np.where(np.abs(np.round(constraints[0].dual_value, 5)) > 0)[0]\n",
    "W = W.value.reshape(-1)\n",
    "b = b.value\n",
    "\n",
    "x_vals = np.array([np.min(X[:, 0])-1, np.max(X[:, 0])+1])\n",
    "x_fit = np.linspace(x_vals[0],x_vals[1],50)\n",
    "y_vals =-W[0]*x_fit/W[1] -b/W[1]\n",
    "slope = -W[0]*x_vals/W[1]\n",
    "plt.scatter(X[:, 0], X[:, 1], c=y)\n",
    "plt.plot(x_fit, y_vals,  label='Decision Boundary')\n",
    "\n",
    "\n",
    "margin = 1/W[1]\n",
    "y_down = y_vals - margin\n",
    "plt.plot(x_fit, y_down,  label='Support Vector')\n",
    "y_up = y_vals + margin\n",
    "plt.plot(x_fit, y_up ,    label='Support Vector')\n",
    "plt.legend()"
   ]
  },
  {
   "cell_type": "markdown",
   "id": "WlUMC_cMQyCG",
   "metadata": {
    "id": "WlUMC_cMQyCG"
   },
   "source": [
    "Yes, our boundary changes after removing the Support Vectors. This is because now our new nearest points from the centre shifted somewhat after removing SV back so our margin increases."
   ]
  },
  {
   "cell_type": "markdown",
   "id": "5112cd3f",
   "metadata": {
    "id": "5112cd3f",
    "jp-MarkdownHeadingCollapsed": true,
    "tags": []
   },
   "source": [
    "### Subsection 2\n",
    "\n",
    "*  Taken the famous MNIST dataset to explore various kernels and report the results and here we have inbuilt sklearn\n"
   ]
  },
  {
   "cell_type": "code",
   "execution_count": null,
   "id": "hOyAtuYMAIT_",
   "metadata": {
    "colab": {
     "base_uri": "https://localhost:8080/"
    },
    "id": "hOyAtuYMAIT_",
    "outputId": "4717271f-bf15-4eab-94aa-bfeea1bb785c"
   },
   "outputs": [
    {
     "name": "stdout",
     "output_type": "stream",
     "text": [
      "Looking in indexes: https://pypi.org/simple, https://us-python.pkg.dev/colab-wheels/public/simple/\n",
      "Collecting python-mnist\n",
      "  Downloading python_mnist-0.7-py2.py3-none-any.whl (9.6 kB)\n",
      "Installing collected packages: python-mnist\n",
      "Successfully installed python-mnist-0.7\n",
      "--2023-03-27 11:02:07--  http://yann.lecun.com/exdb/mnist/train-images-idx3-ubyte.gz\n",
      "Resolving yann.lecun.com (yann.lecun.com)... 104.21.29.36, 172.67.171.76, 2606:4700:3034::6815:1d24, ...\n",
      "Connecting to yann.lecun.com (yann.lecun.com)|104.21.29.36|:80... connected.\n",
      "HTTP request sent, awaiting response... 200 OK\n",
      "Length: 9912422 (9.5M) [application/x-gzip]\n",
      "Saving to: ‘samples/train-images-idx3-ubyte.gz’\n",
      "\n",
      "train-images-idx3-u 100%[===================>]   9.45M  --.-KB/s    in 0.1s    \n",
      "\n",
      "2023-03-27 11:02:07 (85.4 MB/s) - ‘samples/train-images-idx3-ubyte.gz’ saved [9912422/9912422]\n",
      "\n",
      "--2023-03-27 11:02:08--  http://yann.lecun.com/exdb/mnist/train-labels-idx1-ubyte.gz\n",
      "Resolving yann.lecun.com (yann.lecun.com)... 104.21.29.36, 172.67.171.76, 2606:4700:3034::6815:1d24, ...\n",
      "Connecting to yann.lecun.com (yann.lecun.com)|104.21.29.36|:80... connected.\n",
      "HTTP request sent, awaiting response... 200 OK\n",
      "Length: 28881 (28K) [application/x-gzip]\n",
      "Saving to: ‘samples/train-labels-idx1-ubyte.gz’\n",
      "\n",
      "train-labels-idx1-u 100%[===================>]  28.20K  --.-KB/s    in 0.001s  \n",
      "\n",
      "2023-03-27 11:02:08 (53.3 MB/s) - ‘samples/train-labels-idx1-ubyte.gz’ saved [28881/28881]\n",
      "\n",
      "--2023-03-27 11:02:08--  http://yann.lecun.com/exdb/mnist/t10k-images-idx3-ubyte.gz\n",
      "Resolving yann.lecun.com (yann.lecun.com)... 104.21.29.36, 172.67.171.76, 2606:4700:3034::6815:1d24, ...\n",
      "Connecting to yann.lecun.com (yann.lecun.com)|104.21.29.36|:80... connected.\n",
      "HTTP request sent, awaiting response... 200 OK\n",
      "Length: 1648877 (1.6M) [application/x-gzip]\n",
      "Saving to: ‘samples/t10k-images-idx3-ubyte.gz’\n",
      "\n",
      "t10k-images-idx3-ub 100%[===================>]   1.57M  --.-KB/s    in 0.06s   \n",
      "\n",
      "2023-03-27 11:02:08 (24.3 MB/s) - ‘samples/t10k-images-idx3-ubyte.gz’ saved [1648877/1648877]\n",
      "\n",
      "--2023-03-27 11:02:09--  http://yann.lecun.com/exdb/mnist/t10k-labels-idx1-ubyte.gz\n",
      "Resolving yann.lecun.com (yann.lecun.com)... 104.21.29.36, 172.67.171.76, 2606:4700:3034::6815:1d24, ...\n",
      "Connecting to yann.lecun.com (yann.lecun.com)|104.21.29.36|:80... connected.\n",
      "HTTP request sent, awaiting response... 200 OK\n",
      "Length: 4542 (4.4K) [application/x-gzip]\n",
      "Saving to: ‘samples/t10k-labels-idx1-ubyte.gz’\n",
      "\n",
      "t10k-labels-idx1-ub 100%[===================>]   4.44K  --.-KB/s    in 0s      \n",
      "\n",
      "2023-03-27 11:02:09 (727 MB/s) - ‘samples/t10k-labels-idx1-ubyte.gz’ saved [4542/4542]\n",
      "\n"
     ]
    }
   ],
   "source": [
    "!pip install python-mnist\n",
    "!rm -rf samples\n",
    "!mkdir samples\n",
    "!wget http://yann.lecun.com/exdb/mnist/train-images-idx3-ubyte.gz -P samples/\n",
    "!gunzip samples/train-images-idx3-ubyte.gz\n",
    "!wget http://yann.lecun.com/exdb/mnist/train-labels-idx1-ubyte.gz -P samples/\n",
    "!gunzip samples/train-labels-idx1-ubyte.gz\n",
    "!wget http://yann.lecun.com/exdb/mnist/t10k-images-idx3-ubyte.gz -P samples/\n",
    "!gunzip samples/t10k-images-idx3-ubyte.gz\n",
    "!wget http://yann.lecun.com/exdb/mnist/t10k-labels-idx1-ubyte.gz -P samples/\n",
    "!gunzip samples/t10k-labels-idx1-ubyte.gz"
   ]
  },
  {
   "cell_type": "code",
   "execution_count": null,
   "id": "af8d27d7",
   "metadata": {
    "id": "af8d27d7"
   },
   "outputs": [],
   "source": [
    "# Import Relevant Packages\n",
    "from sklearn.svm import SVC\n",
    "import numpy as np\n",
    "from mnist.loader import MNIST\n",
    "from sklearn.metrics import f1_score\n",
    "from sklearn.metrics import confusion_matrix"
   ]
  },
  {
   "cell_type": "code",
   "execution_count": null,
   "id": "71500275",
   "metadata": {
    "colab": {
     "base_uri": "https://localhost:8080/"
    },
    "id": "71500275",
    "outputId": "a6c8904c-2247-4b11-a7cd-bdbcb315f5fc"
   },
   "outputs": [
    {
     "name": "stdout",
     "output_type": "stream",
     "text": [
      "(60000, 784)\n",
      "(60000,)\n"
     ]
    }
   ],
   "source": [
    "mndata = MNIST('samples')\n",
    "\n",
    "# Load training dataset\n",
    "images, labels = mndata.load_training()\n",
    "l = len(labels)\n",
    "images_train = np.array(images)\n",
    "labels_train = np.array(labels)\n",
    "\n",
    "print(images_train.shape)\n",
    "print(labels_train.shape)"
   ]
  },
  {
   "cell_type": "code",
   "execution_count": null,
   "id": "eec20e4f",
   "metadata": {
    "colab": {
     "base_uri": "https://localhost:8080/"
    },
    "id": "eec20e4f",
    "outputId": "59e8611f-ff80-4a64-9cf3-34ab7d1416bb"
   },
   "outputs": [
    {
     "name": "stdout",
     "output_type": "stream",
     "text": [
      "(10000, 784)\n",
      "(10000,)\n"
     ]
    }
   ],
   "source": [
    "# Load testing dataset\n",
    "images, labels = mndata.load_testing()\n",
    "l = len(labels)\n",
    "images_test = np.array(images)\n",
    "labels_test = np.array(labels)\n",
    "\n",
    "print(images_test.shape)\n",
    "print(labels_test.shape)\n",
    "\n",
    "# (images_train, images_test), (labels_train, labels_test) = mnist.load_data()"
   ]
  },
  {
   "cell_type": "markdown",
   "id": "c5ddaf4a",
   "metadata": {
    "id": "c5ddaf4a"
   },
   "source": [
    "- Tweak different parameters like the C Parameter and gamma parameter of the Linear SVM and report the results.\n",
    "- Experiment different kernels (Linear, Polynomial, RBF, Sigmoid) for classification and report the results.\n",
    "\n",
    "Report accuracy score, F1-score, Confusion matrix and any other metrics you feel useful."
   ]
  },
  {
   "cell_type": "code",
   "execution_count": null,
   "id": "4e138279",
   "metadata": {
    "id": "4e138279"
   },
   "outputs": [],
   "source": [
    "# use this subset of data for training and testing\n",
    "\n",
    "batch = 3000\n",
    "X_train = images_train[:batch,:]\n",
    "y_train = labels_train[:batch]\n",
    "\n",
    "X_test = images_test[batch:2*batch,:]\n",
    "y_test = labels_test[batch:2*batch]"
   ]
  },
  {
   "cell_type": "code",
   "execution_count": null,
   "id": "ddd6a92f",
   "metadata": {
    "colab": {
     "base_uri": "https://localhost:8080/"
    },
    "id": "ddd6a92f",
    "outputId": "dd9c0dc5-377a-4058-83c2-63d4a30e10a3"
   },
   "outputs": [
    {
     "name": "stdout",
     "output_type": "stream",
     "text": [
      "(3000, 784)\n",
      "(3000,)\n",
      "(3000, 784)\n",
      "(3000,)\n",
      "[5 0 4 ... 9 1 5]\n"
     ]
    }
   ],
   "source": [
    "print(X_train.shape)\n",
    "print(y_train.shape)\n",
    "print(X_test.shape)\n",
    "print(y_test.shape)\n",
    "print(y_train)"
   ]
  },
  {
   "cell_type": "code",
   "execution_count": null,
   "id": "d5c07655",
   "metadata": {
    "id": "d5c07655"
   },
   "outputs": [],
   "source": [
    "from sklearn.preprocessing import StandardScaler\n",
    "scaler = StandardScaler()\n",
    "X_train = scaler.fit_transform(X_train)\n",
    "X_test = scaler.fit_transform(X_test)\n",
    "y_train = y_train.flatten()"
   ]
  },
  {
   "cell_type": "code",
   "execution_count": null,
   "id": "F17mXbvJFgLT",
   "metadata": {
    "colab": {
     "base_uri": "https://localhost:8080/"
    },
    "id": "F17mXbvJFgLT",
    "outputId": "b7752f35-d553-4360-cf76-e9d0157c8d38"
   },
   "outputs": [
    {
     "name": "stdout",
     "output_type": "stream",
     "text": [
      "# For the value of Gamma as 0.10 and value of C parameter as 0.10 \n",
      " 1.Accuracy Reported is 0.89 \n",
      " 2.F1 score is 0.89 \n",
      " 3.Confusion Matrix is \n",
      "[[290   0   3   0   1   0   1   1   1   0]\n",
      " [  0 339   1   1   0   2   2   0   0   1]\n",
      " [  2   8 284   8   1   1   0   5   3   0]\n",
      " [  4   2   5 238   1  17   0   4   6   2]\n",
      " [  1   0   5   0 261   0   4   1   0   9]\n",
      " [  4   2   2  11   4 228   3   2   9   0]\n",
      " [  6   1   8   0   9   5 259   2   0   0]\n",
      " [  2   5   3   5   8   2   1 253   1  23]\n",
      " [  6   3   3  18   5  18   5   3 236   4]\n",
      " [  2   3   1   5  26   1   0  12   2 274]]\n",
      "# For the value of Gamma as 0.10 and value of C parameter as 0.00 \n",
      " 1.Accuracy Reported is 0.89 \n",
      " 2.F1 score is 0.89 \n",
      " 3.Confusion Matrix is \n",
      "[[290   0   3   0   1   0   1   1   1   0]\n",
      " [  0 339   1   1   0   2   2   0   0   1]\n",
      " [  2   8 284   8   1   1   0   5   3   0]\n",
      " [  4   2   5 238   1  17   0   4   6   2]\n",
      " [  1   0   5   0 261   0   4   1   0   9]\n",
      " [  4   2   2  11   4 228   3   2   9   0]\n",
      " [  6   1   8   0   9   5 259   2   0   0]\n",
      " [  2   5   3   5   8   2   1 253   1  23]\n",
      " [  6   3   3  18   5  18   5   3 236   4]\n",
      " [  2   3   1   5  26   1   0  12   2 274]]\n",
      "# For the value of Gamma as 0.10 and value of C parameter as 0.01 \n",
      " 1.Accuracy Reported is 0.89 \n",
      " 2.F1 score is 0.89 \n",
      " 3.Confusion Matrix is \n",
      "[[290   0   3   0   1   0   1   1   1   0]\n",
      " [  0 339   1   1   0   2   2   0   0   1]\n",
      " [  2   8 284   8   1   1   0   5   3   0]\n",
      " [  4   2   5 238   1  17   0   4   6   2]\n",
      " [  1   0   5   0 261   0   4   1   0   9]\n",
      " [  4   2   2  11   4 228   3   2   9   0]\n",
      " [  6   1   8   0   9   5 259   2   0   0]\n",
      " [  2   5   3   5   8   2   1 253   1  23]\n",
      " [  6   3   3  18   5  18   5   3 236   4]\n",
      " [  2   3   1   5  26   1   0  12   2 274]]\n",
      "# For the value of Gamma as 0.10 and value of C parameter as 1.00 \n",
      " 1.Accuracy Reported is 0.89 \n",
      " 2.F1 score is 0.89 \n",
      " 3.Confusion Matrix is \n",
      "[[290   0   3   0   1   0   1   1   1   0]\n",
      " [  0 339   1   1   0   2   2   0   0   1]\n",
      " [  2   8 284   8   1   1   0   5   3   0]\n",
      " [  4   2   5 238   1  17   0   4   6   2]\n",
      " [  1   0   5   0 261   0   4   1   0   9]\n",
      " [  4   2   2  11   4 228   3   2   9   0]\n",
      " [  6   1   8   0   9   5 259   2   0   0]\n",
      " [  2   5   3   5   8   2   1 253   1  23]\n",
      " [  6   3   3  18   5  18   5   3 236   4]\n",
      " [  2   3   1   5  26   1   0  12   2 274]]\n",
      "# For the value of Gamma as 0.10 and value of C parameter as 2.00 \n",
      " 1.Accuracy Reported is 0.89 \n",
      " 2.F1 score is 0.89 \n",
      " 3.Confusion Matrix is \n",
      "[[290   0   3   0   1   0   1   1   1   0]\n",
      " [  0 339   1   1   0   2   2   0   0   1]\n",
      " [  2   8 284   8   1   1   0   5   3   0]\n",
      " [  4   2   5 238   1  17   0   4   6   2]\n",
      " [  1   0   5   0 261   0   4   1   0   9]\n",
      " [  4   2   2  11   4 228   3   2   9   0]\n",
      " [  6   1   8   0   9   5 259   2   0   0]\n",
      " [  2   5   3   5   8   2   1 253   1  23]\n",
      " [  6   3   3  18   5  18   5   3 236   4]\n",
      " [  2   3   1   5  26   1   0  12   2 274]]\n",
      "# For the value of Gamma as 0.10 and value of C parameter as 3.00 \n",
      " 1.Accuracy Reported is 0.89 \n",
      " 2.F1 score is 0.89 \n",
      " 3.Confusion Matrix is \n",
      "[[290   0   3   0   1   0   1   1   1   0]\n",
      " [  0 339   1   1   0   2   2   0   0   1]\n",
      " [  2   8 284   8   1   1   0   5   3   0]\n",
      " [  4   2   5 238   1  17   0   4   6   2]\n",
      " [  1   0   5   0 261   0   4   1   0   9]\n",
      " [  4   2   2  11   4 228   3   2   9   0]\n",
      " [  6   1   8   0   9   5 259   2   0   0]\n",
      " [  2   5   3   5   8   2   1 253   1  23]\n",
      " [  6   3   3  18   5  18   5   3 236   4]\n",
      " [  2   3   1   5  26   1   0  12   2 274]]\n",
      "# For the value of Gamma as 0.10 and value of C parameter as 10.00 \n",
      " 1.Accuracy Reported is 0.89 \n",
      " 2.F1 score is 0.89 \n",
      " 3.Confusion Matrix is \n",
      "[[290   0   3   0   1   0   1   1   1   0]\n",
      " [  0 339   1   1   0   2   2   0   0   1]\n",
      " [  2   8 284   8   1   1   0   5   3   0]\n",
      " [  4   2   5 238   1  17   0   4   6   2]\n",
      " [  1   0   5   0 261   0   4   1   0   9]\n",
      " [  4   2   2  11   4 228   3   2   9   0]\n",
      " [  6   1   8   0   9   5 259   2   0   0]\n",
      " [  2   5   3   5   8   2   1 253   1  23]\n",
      " [  6   3   3  18   5  18   5   3 236   4]\n",
      " [  2   3   1   5  26   1   0  12   2 274]]\n",
      "# For the value of Gamma as 0.00 and value of C parameter as 0.10 \n",
      " 1.Accuracy Reported is 0.89 \n",
      " 2.F1 score is 0.89 \n",
      " 3.Confusion Matrix is \n",
      "[[290   0   2   0   1   0   1   0   2   1]\n",
      " [  0 341   1   2   0   1   1   0   0   0]\n",
      " [  1   6 287   7   2   1   0   3   5   0]\n",
      " [  2   3   6 236   1  19   1   5   5   1]\n",
      " [  1   1   2   0 267   0   2   0   0   8]\n",
      " [  4   1   2   9   2 229   4   2   8   4]\n",
      " [  6   0   7   0   7  11 257   0   2   0]\n",
      " [  0   8   6   3   7   0   1 247   0  31]\n",
      " [  4   5   2   8   6  14   3   5 247   7]\n",
      " [  2   4   0   5  31   1   0  10   0 273]]\n",
      "# For the value of Gamma as 0.00 and value of C parameter as 0.00 \n",
      " 1.Accuracy Reported is 0.89 \n",
      " 2.F1 score is 0.89 \n",
      " 3.Confusion Matrix is \n",
      "[[290   0   2   0   1   0   1   0   2   1]\n",
      " [  0 341   1   2   0   1   1   0   0   0]\n",
      " [  1   6 287   7   2   1   0   3   5   0]\n",
      " [  2   3   6 236   1  19   1   5   5   1]\n",
      " [  1   1   2   0 267   0   2   0   0   8]\n",
      " [  4   1   2   9   2 229   4   2   8   4]\n",
      " [  6   0   7   0   7  11 257   0   2   0]\n",
      " [  0   8   6   3   7   0   1 247   0  31]\n",
      " [  4   5   2   8   6  14   3   5 247   7]\n",
      " [  2   4   0   5  31   1   0  10   0 273]]\n",
      "# For the value of Gamma as 0.00 and value of C parameter as 0.01 \n",
      " 1.Accuracy Reported is 0.89 \n",
      " 2.F1 score is 0.89 \n",
      " 3.Confusion Matrix is \n",
      "[[290   0   2   0   1   0   1   0   2   1]\n",
      " [  0 341   1   2   0   1   1   0   0   0]\n",
      " [  1   6 287   7   2   1   0   3   5   0]\n",
      " [  2   3   6 236   1  19   1   5   5   1]\n",
      " [  1   1   2   0 267   0   2   0   0   8]\n",
      " [  4   1   2   9   2 229   4   2   8   4]\n",
      " [  6   0   7   0   7  11 257   0   2   0]\n",
      " [  0   8   6   3   7   0   1 247   0  31]\n",
      " [  4   5   2   8   6  14   3   5 247   7]\n",
      " [  2   4   0   5  31   1   0  10   0 273]]\n",
      "# For the value of Gamma as 0.00 and value of C parameter as 1.00 \n",
      " 1.Accuracy Reported is 0.89 \n",
      " 2.F1 score is 0.89 \n",
      " 3.Confusion Matrix is \n",
      "[[290   0   2   0   1   0   1   0   2   1]\n",
      " [  0 341   1   2   0   1   1   0   0   0]\n",
      " [  1   6 287   7   2   1   0   3   5   0]\n",
      " [  2   3   6 236   1  19   1   5   5   1]\n",
      " [  1   1   2   0 267   0   2   0   0   8]\n",
      " [  4   1   2   9   2 229   4   2   8   4]\n",
      " [  6   0   7   0   7  11 257   0   2   0]\n",
      " [  0   8   6   3   7   0   1 247   0  31]\n",
      " [  4   5   2   8   6  14   3   5 247   7]\n",
      " [  2   4   0   5  31   1   0  10   0 273]]\n",
      "# For the value of Gamma as 0.00 and value of C parameter as 2.00 \n",
      " 1.Accuracy Reported is 0.89 \n",
      " 2.F1 score is 0.89 \n",
      " 3.Confusion Matrix is \n",
      "[[290   0   2   0   1   0   1   0   2   1]\n",
      " [  0 341   1   2   0   1   1   0   0   0]\n",
      " [  1   6 287   7   2   1   0   3   5   0]\n",
      " [  2   3   6 236   1  19   1   5   5   1]\n",
      " [  1   1   2   0 267   0   2   0   0   8]\n",
      " [  4   1   2   9   2 229   4   2   8   4]\n",
      " [  6   0   7   0   7  11 257   0   2   0]\n",
      " [  0   8   6   3   7   0   1 247   0  31]\n",
      " [  4   5   2   8   6  14   3   5 247   7]\n",
      " [  2   4   0   5  31   1   0  10   0 273]]\n",
      "# For the value of Gamma as 0.00 and value of C parameter as 3.00 \n",
      " 1.Accuracy Reported is 0.89 \n",
      " 2.F1 score is 0.89 \n",
      " 3.Confusion Matrix is \n",
      "[[290   0   2   0   1   0   1   0   2   1]\n",
      " [  0 341   1   2   0   1   1   0   0   0]\n",
      " [  1   6 287   7   2   1   0   3   5   0]\n",
      " [  2   3   6 236   1  19   1   5   5   1]\n",
      " [  1   1   2   0 267   0   2   0   0   8]\n",
      " [  4   1   2   9   2 229   4   2   8   4]\n",
      " [  6   0   7   0   7  11 257   0   2   0]\n",
      " [  0   8   6   3   7   0   1 247   0  31]\n",
      " [  4   5   2   8   6  14   3   5 247   7]\n",
      " [  2   4   0   5  31   1   0  10   0 273]]\n",
      "# For the value of Gamma as 0.00 and value of C parameter as 10.00 \n",
      " 1.Accuracy Reported is 0.89 \n",
      " 2.F1 score is 0.89 \n",
      " 3.Confusion Matrix is \n",
      "[[290   0   2   0   1   0   1   0   2   1]\n",
      " [  0 341   1   2   0   1   1   0   0   0]\n",
      " [  1   6 287   7   2   1   0   3   5   0]\n",
      " [  2   3   6 236   1  19   1   5   5   1]\n",
      " [  1   1   2   0 267   0   2   0   0   8]\n",
      " [  4   1   2   9   2 229   4   2   8   4]\n",
      " [  6   0   7   0   7  11 257   0   2   0]\n",
      " [  0   8   6   3   7   0   1 247   0  31]\n",
      " [  4   5   2   8   6  14   3   5 247   7]\n",
      " [  2   4   0   5  31   1   0  10   0 273]]\n",
      "# For the value of Gamma as 0.01 and value of C parameter as 0.10 \n",
      " 1.Accuracy Reported is 0.89 \n",
      " 2.F1 score is 0.89 \n",
      " 3.Confusion Matrix is \n",
      "[[288   0   3   0   1   1   0   2   2   0]\n",
      " [  0 340   1   1   0   1   1   1   0   1]\n",
      " [  2   8 284   9   1   2   1   3   2   0]\n",
      " [  1   2   7 240   1  17   1   5   4   1]\n",
      " [  1   1   5   0 263   0   2   1   0   8]\n",
      " [  3   1   2  14   3 226   3   2   9   2]\n",
      " [  4   0  10   0   7   6 263   0   0   0]\n",
      " [  2   8   5   4   7   0   1 254   0  22]\n",
      " [  4   3   2  10   6  17   4   4 245   6]\n",
      " [  2   3   2   5  25   0   0  10   2 277]]\n",
      "# For the value of Gamma as 0.01 and value of C parameter as 0.00 \n",
      " 1.Accuracy Reported is 0.89 \n",
      " 2.F1 score is 0.89 \n",
      " 3.Confusion Matrix is \n",
      "[[288   0   3   0   1   1   0   2   2   0]\n",
      " [  0 340   1   1   0   1   1   1   0   1]\n",
      " [  2   8 284   9   1   2   1   3   2   0]\n",
      " [  1   2   7 240   1  17   1   5   4   1]\n",
      " [  1   1   5   0 263   0   2   1   0   8]\n",
      " [  3   1   2  14   3 226   3   2   9   2]\n",
      " [  4   0  10   0   7   6 263   0   0   0]\n",
      " [  2   8   5   4   7   0   1 254   0  22]\n",
      " [  4   3   2  10   6  17   4   4 245   6]\n",
      " [  2   3   2   5  25   0   0  10   2 277]]\n",
      "# For the value of Gamma as 0.01 and value of C parameter as 0.01 \n",
      " 1.Accuracy Reported is 0.89 \n",
      " 2.F1 score is 0.89 \n",
      " 3.Confusion Matrix is \n",
      "[[288   0   3   0   1   1   0   2   2   0]\n",
      " [  0 340   1   1   0   1   1   1   0   1]\n",
      " [  2   8 284   9   1   2   1   3   2   0]\n",
      " [  1   2   7 240   1  17   1   5   4   1]\n",
      " [  1   1   5   0 263   0   2   1   0   8]\n",
      " [  3   1   2  14   3 226   3   2   9   2]\n",
      " [  4   0  10   0   7   6 263   0   0   0]\n",
      " [  2   8   5   4   7   0   1 254   0  22]\n",
      " [  4   3   2  10   6  17   4   4 245   6]\n",
      " [  2   3   2   5  25   0   0  10   2 277]]\n",
      "# For the value of Gamma as 0.01 and value of C parameter as 1.00 \n",
      " 1.Accuracy Reported is 0.89 \n",
      " 2.F1 score is 0.89 \n",
      " 3.Confusion Matrix is \n",
      "[[288   0   3   0   1   1   0   2   2   0]\n",
      " [  0 340   1   1   0   1   1   1   0   1]\n",
      " [  2   8 284   9   1   2   1   3   2   0]\n",
      " [  1   2   7 240   1  17   1   5   4   1]\n",
      " [  1   1   5   0 263   0   2   1   0   8]\n",
      " [  3   1   2  14   3 226   3   2   9   2]\n",
      " [  4   0  10   0   7   6 263   0   0   0]\n",
      " [  2   8   5   4   7   0   1 254   0  22]\n",
      " [  4   3   2  10   6  17   4   4 245   6]\n",
      " [  2   3   2   5  25   0   0  10   2 277]]\n",
      "# For the value of Gamma as 0.01 and value of C parameter as 2.00 \n",
      " 1.Accuracy Reported is 0.89 \n",
      " 2.F1 score is 0.89 \n",
      " 3.Confusion Matrix is \n",
      "[[288   0   3   0   1   1   0   2   2   0]\n",
      " [  0 340   1   1   0   1   1   1   0   1]\n",
      " [  2   8 284   9   1   2   1   3   2   0]\n",
      " [  1   2   7 240   1  17   1   5   4   1]\n",
      " [  1   1   5   0 263   0   2   1   0   8]\n",
      " [  3   1   2  14   3 226   3   2   9   2]\n",
      " [  4   0  10   0   7   6 263   0   0   0]\n",
      " [  2   8   5   4   7   0   1 254   0  22]\n",
      " [  4   3   2  10   6  17   4   4 245   6]\n",
      " [  2   3   2   5  25   0   0  10   2 277]]\n",
      "# For the value of Gamma as 0.01 and value of C parameter as 3.00 \n",
      " 1.Accuracy Reported is 0.89 \n",
      " 2.F1 score is 0.89 \n",
      " 3.Confusion Matrix is \n",
      "[[288   0   3   0   1   1   0   2   2   0]\n",
      " [  0 340   1   1   0   1   1   1   0   1]\n",
      " [  2   8 284   9   1   2   1   3   2   0]\n",
      " [  1   2   7 240   1  17   1   5   4   1]\n",
      " [  1   1   5   0 263   0   2   1   0   8]\n",
      " [  3   1   2  14   3 226   3   2   9   2]\n",
      " [  4   0  10   0   7   6 263   0   0   0]\n",
      " [  2   8   5   4   7   0   1 254   0  22]\n",
      " [  4   3   2  10   6  17   4   4 245   6]\n",
      " [  2   3   2   5  25   0   0  10   2 277]]\n",
      "# For the value of Gamma as 0.01 and value of C parameter as 10.00 \n",
      " 1.Accuracy Reported is 0.89 \n",
      " 2.F1 score is 0.89 \n",
      " 3.Confusion Matrix is \n",
      "[[288   0   3   0   1   1   0   2   2   0]\n",
      " [  0 340   1   1   0   1   1   1   0   1]\n",
      " [  2   8 284   9   1   2   1   3   2   0]\n",
      " [  1   2   7 240   1  17   1   5   4   1]\n",
      " [  1   1   5   0 263   0   2   1   0   8]\n",
      " [  3   1   2  14   3 226   3   2   9   2]\n",
      " [  4   0  10   0   7   6 263   0   0   0]\n",
      " [  2   8   5   4   7   0   1 254   0  22]\n",
      " [  4   3   2  10   6  17   4   4 245   6]\n",
      " [  2   3   2   5  25   0   0  10   2 277]]\n",
      "# For the value of Gamma as 1.00 and value of C parameter as 0.10 \n",
      " 1.Accuracy Reported is 0.89 \n",
      " 2.F1 score is 0.89 \n",
      " 3.Confusion Matrix is \n",
      "[[290   0   3   0   1   0   1   1   1   0]\n",
      " [  0 339   1   1   0   2   2   0   0   1]\n",
      " [  2   8 284   8   1   1   0   5   3   0]\n",
      " [  4   2   5 238   1  17   0   4   6   2]\n",
      " [  1   0   5   0 261   0   4   1   0   9]\n",
      " [  4   2   2  11   4 228   3   2   9   0]\n",
      " [  6   1   8   0   9   5 259   2   0   0]\n",
      " [  2   5   3   5   8   2   1 253   1  23]\n",
      " [  6   3   3  18   5  18   5   3 236   4]\n",
      " [  2   3   1   5  26   1   0  12   2 274]]\n",
      "# For the value of Gamma as 1.00 and value of C parameter as 0.00 \n",
      " 1.Accuracy Reported is 0.89 \n",
      " 2.F1 score is 0.89 \n",
      " 3.Confusion Matrix is \n",
      "[[290   0   3   0   1   0   1   1   1   0]\n",
      " [  0 339   1   1   0   2   2   0   0   1]\n",
      " [  2   8 284   8   1   1   0   5   3   0]\n",
      " [  4   2   5 238   1  17   0   4   6   2]\n",
      " [  1   0   5   0 261   0   4   1   0   9]\n",
      " [  4   2   2  11   4 228   3   2   9   0]\n",
      " [  6   1   8   0   9   5 259   2   0   0]\n",
      " [  2   5   3   5   8   2   1 253   1  23]\n",
      " [  6   3   3  18   5  18   5   3 236   4]\n",
      " [  2   3   1   5  26   1   0  12   2 274]]\n",
      "# For the value of Gamma as 1.00 and value of C parameter as 0.01 \n",
      " 1.Accuracy Reported is 0.89 \n",
      " 2.F1 score is 0.89 \n",
      " 3.Confusion Matrix is \n",
      "[[290   0   3   0   1   0   1   1   1   0]\n",
      " [  0 339   1   1   0   2   2   0   0   1]\n",
      " [  2   8 284   8   1   1   0   5   3   0]\n",
      " [  4   2   5 238   1  17   0   4   6   2]\n",
      " [  1   0   5   0 261   0   4   1   0   9]\n",
      " [  4   2   2  11   4 228   3   2   9   0]\n",
      " [  6   1   8   0   9   5 259   2   0   0]\n",
      " [  2   5   3   5   8   2   1 253   1  23]\n",
      " [  6   3   3  18   5  18   5   3 236   4]\n",
      " [  2   3   1   5  26   1   0  12   2 274]]\n",
      "# For the value of Gamma as 1.00 and value of C parameter as 1.00 \n",
      " 1.Accuracy Reported is 0.89 \n",
      " 2.F1 score is 0.89 \n",
      " 3.Confusion Matrix is \n",
      "[[290   0   3   0   1   0   1   1   1   0]\n",
      " [  0 339   1   1   0   2   2   0   0   1]\n",
      " [  2   8 284   8   1   1   0   5   3   0]\n",
      " [  4   2   5 238   1  17   0   4   6   2]\n",
      " [  1   0   5   0 261   0   4   1   0   9]\n",
      " [  4   2   2  11   4 228   3   2   9   0]\n",
      " [  6   1   8   0   9   5 259   2   0   0]\n",
      " [  2   5   3   5   8   2   1 253   1  23]\n",
      " [  6   3   3  18   5  18   5   3 236   4]\n",
      " [  2   3   1   5  26   1   0  12   2 274]]\n",
      "# For the value of Gamma as 1.00 and value of C parameter as 2.00 \n",
      " 1.Accuracy Reported is 0.89 \n",
      " 2.F1 score is 0.89 \n",
      " 3.Confusion Matrix is \n",
      "[[290   0   3   0   1   0   1   1   1   0]\n",
      " [  0 339   1   1   0   2   2   0   0   1]\n",
      " [  2   8 284   8   1   1   0   5   3   0]\n",
      " [  4   2   5 238   1  17   0   4   6   2]\n",
      " [  1   0   5   0 261   0   4   1   0   9]\n",
      " [  4   2   2  11   4 228   3   2   9   0]\n",
      " [  6   1   8   0   9   5 259   2   0   0]\n",
      " [  2   5   3   5   8   2   1 253   1  23]\n",
      " [  6   3   3  18   5  18   5   3 236   4]\n",
      " [  2   3   1   5  26   1   0  12   2 274]]\n",
      "# For the value of Gamma as 1.00 and value of C parameter as 3.00 \n",
      " 1.Accuracy Reported is 0.89 \n",
      " 2.F1 score is 0.89 \n",
      " 3.Confusion Matrix is \n",
      "[[290   0   3   0   1   0   1   1   1   0]\n",
      " [  0 339   1   1   0   2   2   0   0   1]\n",
      " [  2   8 284   8   1   1   0   5   3   0]\n",
      " [  4   2   5 238   1  17   0   4   6   2]\n",
      " [  1   0   5   0 261   0   4   1   0   9]\n",
      " [  4   2   2  11   4 228   3   2   9   0]\n",
      " [  6   1   8   0   9   5 259   2   0   0]\n",
      " [  2   5   3   5   8   2   1 253   1  23]\n",
      " [  6   3   3  18   5  18   5   3 236   4]\n",
      " [  2   3   1   5  26   1   0  12   2 274]]\n",
      "# For the value of Gamma as 1.00 and value of C parameter as 10.00 \n",
      " 1.Accuracy Reported is 0.89 \n",
      " 2.F1 score is 0.89 \n",
      " 3.Confusion Matrix is \n",
      "[[290   0   3   0   1   0   1   1   1   0]\n",
      " [  0 339   1   1   0   2   2   0   0   1]\n",
      " [  2   8 284   8   1   1   0   5   3   0]\n",
      " [  4   2   5 238   1  17   0   4   6   2]\n",
      " [  1   0   5   0 261   0   4   1   0   9]\n",
      " [  4   2   2  11   4 228   3   2   9   0]\n",
      " [  6   1   8   0   9   5 259   2   0   0]\n",
      " [  2   5   3   5   8   2   1 253   1  23]\n",
      " [  6   3   3  18   5  18   5   3 236   4]\n",
      " [  2   3   1   5  26   1   0  12   2 274]]\n",
      "# For the value of Gamma as 2.00 and value of C parameter as 0.10 \n",
      " 1.Accuracy Reported is 0.89 \n",
      " 2.F1 score is 0.89 \n",
      " 3.Confusion Matrix is \n",
      "[[290   0   3   0   1   0   1   1   1   0]\n",
      " [  0 339   1   1   0   2   2   0   0   1]\n",
      " [  2   8 284   8   1   1   0   5   3   0]\n",
      " [  4   2   5 238   1  17   0   4   6   2]\n",
      " [  1   0   5   0 261   0   4   1   0   9]\n",
      " [  4   2   2  11   4 228   3   2   9   0]\n",
      " [  6   1   8   0   9   5 259   2   0   0]\n",
      " [  2   5   3   5   8   2   1 253   1  23]\n",
      " [  6   3   3  18   5  18   5   3 236   4]\n",
      " [  2   3   1   5  26   1   0  12   2 274]]\n",
      "# For the value of Gamma as 2.00 and value of C parameter as 0.00 \n",
      " 1.Accuracy Reported is 0.89 \n",
      " 2.F1 score is 0.89 \n",
      " 3.Confusion Matrix is \n",
      "[[290   0   3   0   1   0   1   1   1   0]\n",
      " [  0 339   1   1   0   2   2   0   0   1]\n",
      " [  2   8 284   8   1   1   0   5   3   0]\n",
      " [  4   2   5 238   1  17   0   4   6   2]\n",
      " [  1   0   5   0 261   0   4   1   0   9]\n",
      " [  4   2   2  11   4 228   3   2   9   0]\n",
      " [  6   1   8   0   9   5 259   2   0   0]\n",
      " [  2   5   3   5   8   2   1 253   1  23]\n",
      " [  6   3   3  18   5  18   5   3 236   4]\n",
      " [  2   3   1   5  26   1   0  12   2 274]]\n",
      "# For the value of Gamma as 2.00 and value of C parameter as 0.01 \n",
      " 1.Accuracy Reported is 0.89 \n",
      " 2.F1 score is 0.89 \n",
      " 3.Confusion Matrix is \n",
      "[[290   0   3   0   1   0   1   1   1   0]\n",
      " [  0 339   1   1   0   2   2   0   0   1]\n",
      " [  2   8 284   8   1   1   0   5   3   0]\n",
      " [  4   2   5 238   1  17   0   4   6   2]\n",
      " [  1   0   5   0 261   0   4   1   0   9]\n",
      " [  4   2   2  11   4 228   3   2   9   0]\n",
      " [  6   1   8   0   9   5 259   2   0   0]\n",
      " [  2   5   3   5   8   2   1 253   1  23]\n",
      " [  6   3   3  18   5  18   5   3 236   4]\n",
      " [  2   3   1   5  26   1   0  12   2 274]]\n",
      "# For the value of Gamma as 2.00 and value of C parameter as 1.00 \n",
      " 1.Accuracy Reported is 0.89 \n",
      " 2.F1 score is 0.89 \n",
      " 3.Confusion Matrix is \n",
      "[[290   0   3   0   1   0   1   1   1   0]\n",
      " [  0 339   1   1   0   2   2   0   0   1]\n",
      " [  2   8 284   8   1   1   0   5   3   0]\n",
      " [  4   2   5 238   1  17   0   4   6   2]\n",
      " [  1   0   5   0 261   0   4   1   0   9]\n",
      " [  4   2   2  11   4 228   3   2   9   0]\n",
      " [  6   1   8   0   9   5 259   2   0   0]\n",
      " [  2   5   3   5   8   2   1 253   1  23]\n",
      " [  6   3   3  18   5  18   5   3 236   4]\n",
      " [  2   3   1   5  26   1   0  12   2 274]]\n",
      "# For the value of Gamma as 2.00 and value of C parameter as 2.00 \n",
      " 1.Accuracy Reported is 0.89 \n",
      " 2.F1 score is 0.89 \n",
      " 3.Confusion Matrix is \n",
      "[[290   0   3   0   1   0   1   1   1   0]\n",
      " [  0 339   1   1   0   2   2   0   0   1]\n",
      " [  2   8 284   8   1   1   0   5   3   0]\n",
      " [  4   2   5 238   1  17   0   4   6   2]\n",
      " [  1   0   5   0 261   0   4   1   0   9]\n",
      " [  4   2   2  11   4 228   3   2   9   0]\n",
      " [  6   1   8   0   9   5 259   2   0   0]\n",
      " [  2   5   3   5   8   2   1 253   1  23]\n",
      " [  6   3   3  18   5  18   5   3 236   4]\n",
      " [  2   3   1   5  26   1   0  12   2 274]]\n",
      "# For the value of Gamma as 2.00 and value of C parameter as 3.00 \n",
      " 1.Accuracy Reported is 0.89 \n",
      " 2.F1 score is 0.89 \n",
      " 3.Confusion Matrix is \n",
      "[[290   0   3   0   1   0   1   1   1   0]\n",
      " [  0 339   1   1   0   2   2   0   0   1]\n",
      " [  2   8 284   8   1   1   0   5   3   0]\n",
      " [  4   2   5 238   1  17   0   4   6   2]\n",
      " [  1   0   5   0 261   0   4   1   0   9]\n",
      " [  4   2   2  11   4 228   3   2   9   0]\n",
      " [  6   1   8   0   9   5 259   2   0   0]\n",
      " [  2   5   3   5   8   2   1 253   1  23]\n",
      " [  6   3   3  18   5  18   5   3 236   4]\n",
      " [  2   3   1   5  26   1   0  12   2 274]]\n",
      "# For the value of Gamma as 2.00 and value of C parameter as 10.00 \n",
      " 1.Accuracy Reported is 0.89 \n",
      " 2.F1 score is 0.89 \n",
      " 3.Confusion Matrix is \n",
      "[[290   0   3   0   1   0   1   1   1   0]\n",
      " [  0 339   1   1   0   2   2   0   0   1]\n",
      " [  2   8 284   8   1   1   0   5   3   0]\n",
      " [  4   2   5 238   1  17   0   4   6   2]\n",
      " [  1   0   5   0 261   0   4   1   0   9]\n",
      " [  4   2   2  11   4 228   3   2   9   0]\n",
      " [  6   1   8   0   9   5 259   2   0   0]\n",
      " [  2   5   3   5   8   2   1 253   1  23]\n",
      " [  6   3   3  18   5  18   5   3 236   4]\n",
      " [  2   3   1   5  26   1   0  12   2 274]]\n",
      "# For the value of Gamma as 3.00 and value of C parameter as 0.10 \n",
      " 1.Accuracy Reported is 0.89 \n",
      " 2.F1 score is 0.89 \n",
      " 3.Confusion Matrix is \n",
      "[[290   0   3   0   1   0   1   1   1   0]\n",
      " [  0 339   1   1   0   2   2   0   0   1]\n",
      " [  2   8 284   8   1   1   0   5   3   0]\n",
      " [  4   2   5 238   1  17   0   4   6   2]\n",
      " [  1   0   5   0 261   0   4   1   0   9]\n",
      " [  4   2   2  11   4 228   3   2   9   0]\n",
      " [  6   1   8   0   9   5 259   2   0   0]\n",
      " [  2   5   3   5   8   2   1 253   1  23]\n",
      " [  6   3   3  18   5  18   5   3 236   4]\n",
      " [  2   3   1   5  26   1   0  12   2 274]]\n",
      "# For the value of Gamma as 3.00 and value of C parameter as 0.00 \n",
      " 1.Accuracy Reported is 0.89 \n",
      " 2.F1 score is 0.89 \n",
      " 3.Confusion Matrix is \n",
      "[[290   0   3   0   1   0   1   1   1   0]\n",
      " [  0 339   1   1   0   2   2   0   0   1]\n",
      " [  2   8 284   8   1   1   0   5   3   0]\n",
      " [  4   2   5 238   1  17   0   4   6   2]\n",
      " [  1   0   5   0 261   0   4   1   0   9]\n",
      " [  4   2   2  11   4 228   3   2   9   0]\n",
      " [  6   1   8   0   9   5 259   2   0   0]\n",
      " [  2   5   3   5   8   2   1 253   1  23]\n",
      " [  6   3   3  18   5  18   5   3 236   4]\n",
      " [  2   3   1   5  26   1   0  12   2 274]]\n",
      "# For the value of Gamma as 3.00 and value of C parameter as 0.01 \n",
      " 1.Accuracy Reported is 0.89 \n",
      " 2.F1 score is 0.89 \n",
      " 3.Confusion Matrix is \n",
      "[[290   0   3   0   1   0   1   1   1   0]\n",
      " [  0 339   1   1   0   2   2   0   0   1]\n",
      " [  2   8 284   8   1   1   0   5   3   0]\n",
      " [  4   2   5 238   1  17   0   4   6   2]\n",
      " [  1   0   5   0 261   0   4   1   0   9]\n",
      " [  4   2   2  11   4 228   3   2   9   0]\n",
      " [  6   1   8   0   9   5 259   2   0   0]\n",
      " [  2   5   3   5   8   2   1 253   1  23]\n",
      " [  6   3   3  18   5  18   5   3 236   4]\n",
      " [  2   3   1   5  26   1   0  12   2 274]]\n",
      "# For the value of Gamma as 3.00 and value of C parameter as 1.00 \n",
      " 1.Accuracy Reported is 0.89 \n",
      " 2.F1 score is 0.89 \n",
      " 3.Confusion Matrix is \n",
      "[[290   0   3   0   1   0   1   1   1   0]\n",
      " [  0 339   1   1   0   2   2   0   0   1]\n",
      " [  2   8 284   8   1   1   0   5   3   0]\n",
      " [  4   2   5 238   1  17   0   4   6   2]\n",
      " [  1   0   5   0 261   0   4   1   0   9]\n",
      " [  4   2   2  11   4 228   3   2   9   0]\n",
      " [  6   1   8   0   9   5 259   2   0   0]\n",
      " [  2   5   3   5   8   2   1 253   1  23]\n",
      " [  6   3   3  18   5  18   5   3 236   4]\n",
      " [  2   3   1   5  26   1   0  12   2 274]]\n",
      "# For the value of Gamma as 3.00 and value of C parameter as 2.00 \n",
      " 1.Accuracy Reported is 0.89 \n",
      " 2.F1 score is 0.89 \n",
      " 3.Confusion Matrix is \n",
      "[[290   0   3   0   1   0   1   1   1   0]\n",
      " [  0 339   1   1   0   2   2   0   0   1]\n",
      " [  2   8 284   8   1   1   0   5   3   0]\n",
      " [  4   2   5 238   1  17   0   4   6   2]\n",
      " [  1   0   5   0 261   0   4   1   0   9]\n",
      " [  4   2   2  11   4 228   3   2   9   0]\n",
      " [  6   1   8   0   9   5 259   2   0   0]\n",
      " [  2   5   3   5   8   2   1 253   1  23]\n",
      " [  6   3   3  18   5  18   5   3 236   4]\n",
      " [  2   3   1   5  26   1   0  12   2 274]]\n",
      "# For the value of Gamma as 3.00 and value of C parameter as 3.00 \n",
      " 1.Accuracy Reported is 0.89 \n",
      " 2.F1 score is 0.89 \n",
      " 3.Confusion Matrix is \n",
      "[[290   0   3   0   1   0   1   1   1   0]\n",
      " [  0 339   1   1   0   2   2   0   0   1]\n",
      " [  2   8 284   8   1   1   0   5   3   0]\n",
      " [  4   2   5 238   1  17   0   4   6   2]\n",
      " [  1   0   5   0 261   0   4   1   0   9]\n",
      " [  4   2   2  11   4 228   3   2   9   0]\n",
      " [  6   1   8   0   9   5 259   2   0   0]\n",
      " [  2   5   3   5   8   2   1 253   1  23]\n",
      " [  6   3   3  18   5  18   5   3 236   4]\n",
      " [  2   3   1   5  26   1   0  12   2 274]]\n",
      "# For the value of Gamma as 3.00 and value of C parameter as 10.00 \n",
      " 1.Accuracy Reported is 0.89 \n",
      " 2.F1 score is 0.89 \n",
      " 3.Confusion Matrix is \n",
      "[[290   0   3   0   1   0   1   1   1   0]\n",
      " [  0 339   1   1   0   2   2   0   0   1]\n",
      " [  2   8 284   8   1   1   0   5   3   0]\n",
      " [  4   2   5 238   1  17   0   4   6   2]\n",
      " [  1   0   5   0 261   0   4   1   0   9]\n",
      " [  4   2   2  11   4 228   3   2   9   0]\n",
      " [  6   1   8   0   9   5 259   2   0   0]\n",
      " [  2   5   3   5   8   2   1 253   1  23]\n",
      " [  6   3   3  18   5  18   5   3 236   4]\n",
      " [  2   3   1   5  26   1   0  12   2 274]]\n",
      "# For the value of Gamma as 10.00 and value of C parameter as 0.10 \n",
      " 1.Accuracy Reported is 0.89 \n",
      " 2.F1 score is 0.89 \n",
      " 3.Confusion Matrix is \n",
      "[[290   0   3   0   1   0   1   1   1   0]\n",
      " [  0 339   1   1   0   2   2   0   0   1]\n",
      " [  2   8 284   8   1   1   0   5   3   0]\n",
      " [  4   2   5 238   1  17   0   4   6   2]\n",
      " [  1   0   5   0 261   0   4   1   0   9]\n",
      " [  4   2   2  11   4 228   3   2   9   0]\n",
      " [  6   1   8   0   9   5 259   2   0   0]\n",
      " [  2   5   3   5   8   2   1 253   1  23]\n",
      " [  6   3   3  18   5  18   5   3 236   4]\n",
      " [  2   3   1   5  26   1   0  12   2 274]]\n",
      "# For the value of Gamma as 10.00 and value of C parameter as 0.00 \n",
      " 1.Accuracy Reported is 0.89 \n",
      " 2.F1 score is 0.89 \n",
      " 3.Confusion Matrix is \n",
      "[[290   0   3   0   1   0   1   1   1   0]\n",
      " [  0 339   1   1   0   2   2   0   0   1]\n",
      " [  2   8 284   8   1   1   0   5   3   0]\n",
      " [  4   2   5 238   1  17   0   4   6   2]\n",
      " [  1   0   5   0 261   0   4   1   0   9]\n",
      " [  4   2   2  11   4 228   3   2   9   0]\n",
      " [  6   1   8   0   9   5 259   2   0   0]\n",
      " [  2   5   3   5   8   2   1 253   1  23]\n",
      " [  6   3   3  18   5  18   5   3 236   4]\n",
      " [  2   3   1   5  26   1   0  12   2 274]]\n",
      "# For the value of Gamma as 10.00 and value of C parameter as 0.01 \n",
      " 1.Accuracy Reported is 0.89 \n",
      " 2.F1 score is 0.89 \n",
      " 3.Confusion Matrix is \n",
      "[[290   0   3   0   1   0   1   1   1   0]\n",
      " [  0 339   1   1   0   2   2   0   0   1]\n",
      " [  2   8 284   8   1   1   0   5   3   0]\n",
      " [  4   2   5 238   1  17   0   4   6   2]\n",
      " [  1   0   5   0 261   0   4   1   0   9]\n",
      " [  4   2   2  11   4 228   3   2   9   0]\n",
      " [  6   1   8   0   9   5 259   2   0   0]\n",
      " [  2   5   3   5   8   2   1 253   1  23]\n",
      " [  6   3   3  18   5  18   5   3 236   4]\n",
      " [  2   3   1   5  26   1   0  12   2 274]]\n",
      "# For the value of Gamma as 10.00 and value of C parameter as 1.00 \n",
      " 1.Accuracy Reported is 0.89 \n",
      " 2.F1 score is 0.89 \n",
      " 3.Confusion Matrix is \n",
      "[[290   0   3   0   1   0   1   1   1   0]\n",
      " [  0 339   1   1   0   2   2   0   0   1]\n",
      " [  2   8 284   8   1   1   0   5   3   0]\n",
      " [  4   2   5 238   1  17   0   4   6   2]\n",
      " [  1   0   5   0 261   0   4   1   0   9]\n",
      " [  4   2   2  11   4 228   3   2   9   0]\n",
      " [  6   1   8   0   9   5 259   2   0   0]\n",
      " [  2   5   3   5   8   2   1 253   1  23]\n",
      " [  6   3   3  18   5  18   5   3 236   4]\n",
      " [  2   3   1   5  26   1   0  12   2 274]]\n",
      "# For the value of Gamma as 10.00 and value of C parameter as 2.00 \n",
      " 1.Accuracy Reported is 0.89 \n",
      " 2.F1 score is 0.89 \n",
      " 3.Confusion Matrix is \n",
      "[[290   0   3   0   1   0   1   1   1   0]\n",
      " [  0 339   1   1   0   2   2   0   0   1]\n",
      " [  2   8 284   8   1   1   0   5   3   0]\n",
      " [  4   2   5 238   1  17   0   4   6   2]\n",
      " [  1   0   5   0 261   0   4   1   0   9]\n",
      " [  4   2   2  11   4 228   3   2   9   0]\n",
      " [  6   1   8   0   9   5 259   2   0   0]\n",
      " [  2   5   3   5   8   2   1 253   1  23]\n",
      " [  6   3   3  18   5  18   5   3 236   4]\n",
      " [  2   3   1   5  26   1   0  12   2 274]]\n",
      "# For the value of Gamma as 10.00 and value of C parameter as 3.00 \n",
      " 1.Accuracy Reported is 0.89 \n",
      " 2.F1 score is 0.89 \n",
      " 3.Confusion Matrix is \n",
      "[[290   0   3   0   1   0   1   1   1   0]\n",
      " [  0 339   1   1   0   2   2   0   0   1]\n",
      " [  2   8 284   8   1   1   0   5   3   0]\n",
      " [  4   2   5 238   1  17   0   4   6   2]\n",
      " [  1   0   5   0 261   0   4   1   0   9]\n",
      " [  4   2   2  11   4 228   3   2   9   0]\n",
      " [  6   1   8   0   9   5 259   2   0   0]\n",
      " [  2   5   3   5   8   2   1 253   1  23]\n",
      " [  6   3   3  18   5  18   5   3 236   4]\n",
      " [  2   3   1   5  26   1   0  12   2 274]]\n",
      "# For the value of Gamma as 10.00 and value of C parameter as 10.00 \n",
      " 1.Accuracy Reported is 0.89 \n",
      " 2.F1 score is 0.89 \n",
      " 3.Confusion Matrix is \n",
      "[[290   0   3   0   1   0   1   1   1   0]\n",
      " [  0 339   1   1   0   2   2   0   0   1]\n",
      " [  2   8 284   8   1   1   0   5   3   0]\n",
      " [  4   2   5 238   1  17   0   4   6   2]\n",
      " [  1   0   5   0 261   0   4   1   0   9]\n",
      " [  4   2   2  11   4 228   3   2   9   0]\n",
      " [  6   1   8   0   9   5 259   2   0   0]\n",
      " [  2   5   3   5   8   2   1 253   1  23]\n",
      " [  6   3   3  18   5  18   5   3 236   4]\n",
      " [  2   3   1   5  26   1   0  12   2 274]]\n",
      "0.005\n",
      "0.1\n"
     ]
    }
   ],
   "source": [
    "## Trying out with different values of C on Linear Kernel\n",
    "C = [0.1,0.001,0.005,1,2,3,10]\n",
    "G = [0.1,0.001,0.005,1,2,3,10]\n",
    "maxAccuracy = 0\n",
    "aptC = None\n",
    "aptG = None\n",
    "for c in C:\n",
    "  for g in G:\n",
    "    svm_clf = SVC(kernel='linear', C=c, gamma= g)\n",
    "    svm_clf.fit(X_train, y_train)\n",
    "    accuracy = svm_clf.score(X_test, y_test)\n",
    "    y_pred = svm_clf.predict(X_test)\n",
    "    f1 = f1_score(y_test, y_pred,average='micro')\n",
    "    cm = confusion_matrix(y_test, y_pred)\n",
    "    print(\"# For the value of Gamma as {:.2f} and value of C parameter as {:.2f} \\n 1.Accuracy Reported is {:.2f} \\n 2.F1 score is {:.2f} \\n 3.Confusion Matrix is \".format(c,g,accuracy,f1))\n",
    "    print(cm)\n",
    "    if(accuracy > maxAccuracy):\n",
    "      aptC = c\n",
    "      aptG = g\n",
    "      maxAccuracy = accuracy\n",
    "  \n",
    "print(aptC)\n",
    "print(aptG)\n"
   ]
  },
  {
   "cell_type": "markdown",
   "id": "QfE62wqeKNy3",
   "metadata": {
    "id": "QfE62wqeKNy3"
   },
   "source": [
    "Here, gamma is a positive scalar parameter that determines the width of the Gaussian kernel. A small gamma value corresponds to a wide Gaussian kernel, meaning that data points far away from a support vector will have a significant influence on the position of the decision boundary. Conversely, a large gamma value corresponds to a narrow Gaussian kernel, meaning that only data points near a support vector will have a significant influence on the position of the decision boundar"
   ]
  },
  {
   "cell_type": "code",
   "execution_count": null,
   "id": "1mlUPYMMIsPt",
   "metadata": {
    "colab": {
     "base_uri": "https://localhost:8080/"
    },
    "id": "1mlUPYMMIsPt",
    "outputId": "c49976af-4beb-423f-f745-9879caae874a"
   },
   "outputs": [
    {
     "name": "stdout",
     "output_type": "stream",
     "text": [
      "# For the Kernel chosen as poly \n",
      " 1.Accuracy Reported is 0.90 \n",
      " 2.F1 score is 0.90 \n",
      " 3.Confusion Matrix is \n",
      "[[285   0   2   1   1   1   2   0   4   1]\n",
      " [  0 339   2   0   1   2   1   0   1   0]\n",
      " [  0   0 276  11   6   0   1   4  14   0]\n",
      " [  1   0   2 247   1   8   1   4  14   1]\n",
      " [  1   0   3   0 269   0   1   0   0   7]\n",
      " [  0   0   1   5   5 233   5   2   8   6]\n",
      " [  3   0   3   0  21   6 254   0   3   0]\n",
      " [  0   4   3   2  17   0   0 250   0  27]\n",
      " [  2   0   2   6   5   4   1   1 275   5]\n",
      " [  0   3   0   3  32   1   0   1   2 284]]\n",
      "# For the Kernel chosen as rbf \n",
      " 1.Accuracy Reported is 0.12 \n",
      " 2.F1 score is 0.12 \n",
      " 3.Confusion Matrix is \n",
      "[[  0 297   0   0   0   0   0   0   0   0]\n",
      " [  0 346   0   0   0   0   0   0   0   0]\n",
      " [  0 312   0   0   0   0   0   0   0   0]\n",
      " [  0 279   0   0   0   0   0   0   0   0]\n",
      " [  0 281   0   0   0   0   0   0   0   0]\n",
      " [  0 265   0   0   0   0   0   0   0   0]\n",
      " [  0 290   0   0   0   0   0   0   0   0]\n",
      " [  0 303   0   0   0   0   0   0   0   0]\n",
      " [  0 301   0   0   0   0   0   0   0   0]\n",
      " [  0 326   0   0   0   0   0   0   0   0]]\n",
      "# For the Kernel chosen as linear \n",
      " 1.Accuracy Reported is 0.89 \n",
      " 2.F1 score is 0.89 \n",
      " 3.Confusion Matrix is \n",
      "[[288   0   3   0   1   1   0   2   2   0]\n",
      " [  0 340   1   1   0   1   1   1   0   1]\n",
      " [  2   8 284   9   1   2   1   3   2   0]\n",
      " [  1   2   7 240   1  17   1   5   4   1]\n",
      " [  1   1   5   0 263   0   2   1   0   8]\n",
      " [  3   1   2  14   3 226   3   2   9   2]\n",
      " [  4   0  10   0   7   6 263   0   0   0]\n",
      " [  2   8   5   4   7   0   1 254   0  22]\n",
      " [  4   3   2  10   6  17   4   4 245   6]\n",
      " [  2   3   2   5  25   0   0  10   2 277]]\n",
      "# For the Kernel chosen as sigmoid \n",
      " 1.Accuracy Reported is 0.49 \n",
      " 2.F1 score is 0.49 \n",
      " 3.Confusion Matrix is \n",
      "[[264   2   8   1   0  10   9   2   1   0]\n",
      " [  0 342   0   3   0   1   0   0   0   0]\n",
      " [ 32 115 100   8   1   1  44   4   7   0]\n",
      " [ 33 111   6 114   1   2   2   7   2   1]\n",
      " [ 21  50   3   0 186   0   8   8   0   5]\n",
      " [ 40  65   3  62  17  51   6  13   1   7]\n",
      " [ 47  57  27   0  12   8 139   0   0   0]\n",
      " [ 10  99   1   0   5   0   1 186   1   0]\n",
      " [ 17 130   6  19  11   9  12  14  77   6]\n",
      " [ 16  54   6   5 138   0   1  92   1  13]]\n"
     ]
    }
   ],
   "source": [
    "# Experimenting with different kernels like Linear, Polynomial, RBF, Sigmoid\n",
    "kernels = ['poly', 'rbf', 'linear', 'sigmoid']\n",
    "for k in kernels:\n",
    "    svm_clf = SVC(kernel=k, C=aptC, gamma= aptG)\n",
    "    svm_clf.fit(X_train, y_train)\n",
    "    accuracy = svm_clf.score(X_test, y_test)\n",
    "    y_pred = svm_clf.predict(X_test)\n",
    "    f1 = f1_score(y_test, y_pred,average='micro')\n",
    "    cm = confusion_matrix(y_test, y_pred)\n",
    "    print(\"# For the Kernel chosen as\",k,\"\\n 1.Accuracy Reported is {:.2f} \\n 2.F1 score is {:.2f} \\n 3.Confusion Matrix is \".format(accuracy,f1))\n",
    "    print(cm)\n"
   ]
  }
 ],
 "metadata": {
  "colab": {
   "provenance": []
  },
  "kernelspec": {
   "display_name": "Python 3 (ipykernel)",
   "language": "python",
   "name": "python3"
  },
  "language_info": {
   "codemirror_mode": {
    "name": "ipython",
    "version": 3
   },
   "file_extension": ".py",
   "mimetype": "text/x-python",
   "name": "python",
   "nbconvert_exporter": "python",
   "pygments_lexer": "ipython3",
   "version": "3.11.1"
  }
 },
 "nbformat": 4,
 "nbformat_minor": 5
}
